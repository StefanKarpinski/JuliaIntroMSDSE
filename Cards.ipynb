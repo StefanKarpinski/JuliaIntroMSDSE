{
 "cells": [
  {
   "cell_type": "code",
   "execution_count": 1,
   "metadata": {},
   "outputs": [],
   "source": [
    "using Cards"
   ]
  },
  {
   "cell_type": "code",
   "execution_count": 2,
   "metadata": {},
   "outputs": [
    {
     "name": "stdout",
     "output_type": "stream",
     "text": [
      "  1.263530 seconds (1.43 M allocations: 128.296 MiB, 7.02% gc time)\n"
     ]
    },
    {
     "data": {
      "text/plain": [
       "1000000×4 Array{Hand,2}:\n",
       " ♣34⒑Q♢348♡QK♠49JQ  ♣68♢69KA♡38A♠258A  ♣9A♢⒑♡267⒑J♠367⒑K  ♣257JK♢257JQ♡459\n",
       " ♣8QK♢459QK♡5♠268K  ♣49A♢7JA♡9QKA♠4QA  ♣567J♢38♡3678J♠37  ♣23⒑♢26⒑♡24⒑♠59⒑J\n",
       " ♣59⒑Q♢45⒑♡9⒑A♠5QA  ♣36J♢JQK♡38JQ♠238  ♣7KA♢38A♡267K♠7⒑K  ♣248♢2679♡45♠469J\n",
       " ♣2⒑♢356JK♡49⒑JQ♠J  ♣479♢47⒑♡258♠2689  ♣356JK♢29QA♡K♠347  ♣8QA♢8♡367A♠5⒑QKA\n",
       " ♣2A♢567⒑A♡7A♠4⒑KA  ♣358JK♢39J♡5⒑Q♠6Q  ♣6Q♢2QK♡8JK♠3579J  ♣479⒑♢48♡23469♠28\n",
       " ♣79KA♢247KA♡9A♠6A  ♣26⒑JQ♢35♡457♠78⒑  ♣348♢68J♡38⒑J♠459  ♣5♢9⒑Q♡26QK♠23JQK\n",
       " ♣9J♢48JKA♡⒑QK♠8KA  ♣34567Q♢57⒑♡29♠4⒑  ♣28KA♢9♡345JA♠79Q  ♣⒑♢236Q♡678♠2356J\n",
       " ♣67⒑♢24589J♡7♠67J  ♣59JQA♢37K♡235♠2⒑  ♣348♢6QA♡4JK♠458Q  ♣2K♢⒑♡689⒑QA♠39KA\n",
       " ♣59QA♢49♡A♠267QKA  ♣48J♢7Q♡238⒑Q♠345  ♣267K♢56⒑J♡459J♠⒑  ♣3⒑♢238KA♡67K♠89J\n",
       " ♣38⒑K♢279♡2489♠78  ♣247A♢48A♡3⒑A♠9QA  ♣56♢6⒑Q♡567♠246⒑J  ♣9JQ♢35JK♡JQK♠35K\n",
       " ♣48Q♢3467Q♡67♠79J  ♣3569♢89J♡2358J♠6  ♣7JA♢2KA♡⒑A♠35⒑KA  ♣2⒑K♢5⒑♡49QK♠248Q\n",
       " ♣9♢23459♡3689♠7⒑J  ♣358⒑K♢Q♡47⒑Q♠458  ♣4JQ♢8J♡25JA♠36QA  ♣267A♢67⒑KA♡K♠29K\n",
       " ♣47⒑♢36♡2368Q♠23J  ♣3568♢458JA♡4J♠5K  ♣9Q♢279♡579♠4679⒑  ♣2JKA♢⒑QK♡⒑KA♠8QA\n",
       " ⋮                                                        \n",
       " ♣23A♢QA♡28⒑K♠26JK  ♣89♢3456⒑J♡3569♠8  ♣57⒑JQ♢27♡7JQ♠49Q  ♣46K♢89K♡4A♠357⒑A\n",
       " ♣26⒑KA♢3A♡3QA♠2JA  ♣579J♢J♡67JK♠67QK  ♣3Q♢2589K♡589♠38⒑  ♣48♢467⒑Q♡24⒑♠459\n",
       " ♣57♢36⒑Q♡7♠48⒑JQA  ♣24⒑♢458♡389⒑♠256  ♣68JK♢9JA♡2JQKA♠7  ♣39QA♢27K♡456♠39K\n",
       " ♣89K♢59♡56QKA♠28A  ♣35JQ♢3478♡37⒑♠47  ♣⒑A♢2⒑KA♡9J♠35⒑QK  ♣2467♢6JQ♡248♠69J\n",
       " ♣4678♢678♡247⒑♠38  ♣2A♢45A♡JQA♠4⒑QKA  ♣39JK♢9⒑♡58K♠679J  ♣5⒑Q♢23JQK♡369♠25\n",
       " ♣369A♢47K♡48♠279K  ♣25QK♢59⒑♡269QA♠Q  ♣⒑J♢8QA♡5⒑J♠468JA  ♣478♢236J♡37K♠35⒑\n",
       " ♣7KA♢349⒑A♡2357♠K  ♣589♢6♡4689♠23568  ♣24⒑J♢2Q♡⒑JQ♠9⒑JQ  ♣36Q♢578JK♡KA♠47A\n",
       " ♣7♢2367Q♡345J♠29Q  ♣34⒑JKA♢89K♡6QK♠3  ♣269♢5⒑J♡9⒑♠4578⒑  ♣58Q♢4A♡278A♠6JKA\n",
       " ♣6⒑♢2379J♠489⒑JQ   ♣35♢45♡367⒑J♠2356  ♣2789JQA♢Q♡59QK♠7  ♣4K♢68⒑KA♡248A♠KA\n",
       " ♣458♢79J♡56♠4689Q  ♣236♢K♡237⒑QKA♠7A  ♣9JA♢2348⒑A♡4♠3⒑J  ♣7⒑QK♢56Q♡89J♠25K\n",
       " ♣346♢2789♡389♠248  ♣5K♢4⒑♡267K♠579JK  ♣2789♢5KA♡4⒑A♠3⒑A  ♣⒑JQA♢36JQ♡5JQ♠6Q\n",
       " ♣68K♢38⒑J♡245♠89⒑  ♣9♢26A♡38⒑K♠3456A  ♣34⒑A♢K♡79JQA♠JQK  ♣257JQ♢4579Q♡6♠27"
      ]
     },
     "execution_count": 2,
     "metadata": {},
     "output_type": "execute_result"
    }
   ],
   "source": [
    "@time hands = deal(10^6)"
   ]
  },
  {
   "cell_type": "code",
   "execution_count": 3,
   "metadata": {},
   "outputs": [
    {
     "data": {
      "text/plain": [
       "4-element Array{Hand,1}:\n",
       " Hand([2♣, 6♣, 2♢, 3♢, 5♢, 6♢, 9♢, J♢, 3♡, 5♡, 10♡, 6♠, 10♠])\n",
       " Hand([3♣, 7♣, 8♣, Q♣, A♣, 4♢, 10♢, 4♡, Q♡, 4♠, 7♠, K♠, A♠])\n",
       " Hand([5♣, K♣, 7♢, Q♢, K♢, A♢, 6♡, 8♡, K♡, A♡, 2♠, 5♠, 9♠])\n",
       " Hand([4♣, 9♣, 10♣, J♣, 8♢, 2♡, 7♡, 9♡, J♡, 3♠, 8♠, J♠, Q♠])"
      ]
     },
     "execution_count": 3,
     "metadata": {},
     "output_type": "execute_result"
    }
   ],
   "source": [
    "hands[123,:]"
   ]
  },
  {
   "cell_type": "code",
   "execution_count": 4,
   "metadata": {},
   "outputs": [
    {
     "data": {
      "text/plain": [
       "1000000-element Array{Hand,1}:\n",
       " Hand([6♣, 8♣, 6♢, 9♢, K♢, A♢, 3♡, 8♡, A♡, 2♠, 5♠, 8♠, A♠])\n",
       " Hand([4♣, 9♣, A♣, 7♢, J♢, A♢, 9♡, Q♡, K♡, A♡, 4♠, Q♠, A♠])\n",
       " Hand([3♣, 6♣, J♣, J♢, Q♢, K♢, 3♡, 8♡, J♡, Q♡, 2♠, 3♠, 8♠])\n",
       " Hand([4♣, 7♣, 9♣, 4♢, 7♢, 10♢, 2♡, 5♡, 8♡, 2♠, 6♠, 8♠, 9♠])\n",
       " Hand([3♣, 5♣, 8♣, J♣, K♣, 3♢, 9♢, J♢, 5♡, 10♡, Q♡, 6♠, Q♠])\n",
       " Hand([2♣, 6♣, 10♣, J♣, Q♣, 3♢, 5♢, 4♡, 5♡, 7♡, 7♠, 8♠, 10♠])\n",
       " Hand([3♣, 4♣, 5♣, 6♣, 7♣, Q♣, 5♢, 7♢, 10♢, 2♡, 9♡, 4♠, 10♠])\n",
       " Hand([5♣, 9♣, J♣, Q♣, A♣, 3♢, 7♢, K♢, 2♡, 3♡, 5♡, 2♠, 10♠])\n",
       " Hand([4♣, 8♣, J♣, 7♢, Q♢, 2♡, 3♡, 8♡, 10♡, Q♡, 3♠, 4♠, 5♠])\n",
       " Hand([2♣, 4♣, 7♣, A♣, 4♢, 8♢, A♢, 3♡, 10♡, A♡, 9♠, Q♠, A♠])\n",
       " Hand([3♣, 5♣, 6♣, 9♣, 8♢, 9♢, J♢, 2♡, 3♡, 5♡, 8♡, J♡, 6♠])\n",
       " Hand([3♣, 5♣, 8♣, 10♣, K♣, Q♢, 4♡, 7♡, 10♡, Q♡, 4♠, 5♠, 8♠])\n",
       " Hand([3♣, 5♣, 6♣, 8♣, 4♢, 5♢, 8♢, J♢, A♢, 4♡, J♡, 5♠, K♠])\n",
       " ⋮\n",
       " Hand([8♣, 9♣, 3♢, 4♢, 5♢, 6♢, 10♢, J♢, 3♡, 5♡, 6♡, 9♡, 8♠])\n",
       " Hand([5♣, 7♣, 9♣, J♣, J♢, 6♡, 7♡, J♡, K♡, 6♠, 7♠, Q♠, K♠])\n",
       " Hand([2♣, 4♣, 10♣, 4♢, 5♢, 8♢, 3♡, 8♡, 9♡, 10♡, 2♠, 5♠, 6♠])\n",
       " Hand([3♣, 5♣, J♣, Q♣, 3♢, 4♢, 7♢, 8♢, 3♡, 7♡, 10♡, 4♠, 7♠])\n",
       " Hand([2♣, A♣, 4♢, 5♢, A♢, J♡, Q♡, A♡, 4♠, 10♠, Q♠, K♠, A♠])\n",
       " Hand([2♣, 5♣, Q♣, K♣, 5♢, 9♢, 10♢, 2♡, 6♡, 9♡, Q♡, A♡, Q♠])\n",
       " Hand([5♣, 8♣, 9♣, 6♢, 4♡, 6♡, 8♡, 9♡, 2♠, 3♠, 5♠, 6♠, 8♠])\n",
       " Hand([3♣, 4♣, 10♣, J♣, K♣, A♣, 8♢, 9♢, K♢, 6♡, Q♡, K♡, 3♠])\n",
       " Hand([3♣, 5♣, 4♢, 5♢, 3♡, 6♡, 7♡, 10♡, J♡, 2♠, 3♠, 5♠, 6♠])\n",
       " Hand([2♣, 3♣, 6♣, K♢, 2♡, 3♡, 7♡, 10♡, Q♡, K♡, A♡, 7♠, A♠])\n",
       " Hand([5♣, K♣, 4♢, 10♢, 2♡, 6♡, 7♡, K♡, 5♠, 7♠, 9♠, J♠, K♠])\n",
       " Hand([9♣, 2♢, 6♢, A♢, 3♡, 8♡, 10♡, K♡, 3♠, 4♠, 5♠, 6♠, A♠])"
      ]
     },
     "execution_count": 4,
     "metadata": {},
     "output_type": "execute_result"
    }
   ],
   "source": [
    "hands[:,2]"
   ]
  },
  {
   "cell_type": "code",
   "execution_count": 5,
   "metadata": {},
   "outputs": [
    {
     "data": {
      "text/plain": [
       "points"
      ]
     },
     "execution_count": 5,
     "metadata": {},
     "output_type": "execute_result"
    }
   ],
   "source": [
    "\"\"\"\n",
    "Count the bridge points of a given hand.\n",
    "\"\"\"\n",
    "function points(hand::Hand)\n",
    "    p = 0\n",
    "    for rank = 11:14, suit = 0:3\n",
    "        card = Card(rank, suit)\n",
    "        p += (rank-10)*(card in hand)\n",
    "    end\n",
    "    return p\n",
    "end"
   ]
  },
  {
   "cell_type": "code",
   "execution_count": 6,
   "metadata": {},
   "outputs": [
    {
     "data": {
      "text/plain": [
       "1000000×4 Array{Int64,2}:\n",
       " 10  15   8   7\n",
       " 13  24   2   1\n",
       " 12  10  17   1\n",
       "  8   0  13  19\n",
       " 19   9  12   0\n",
       " 22   3   2  13\n",
       " 21   2  14   3\n",
       "  2  10  12  16\n",
       " 19   5   5  11\n",
       "  3  18   3  16\n",
       "  5   2  23  10\n",
       "  1   7  15  17\n",
       "  3   9   2  26\n",
       "  ⋮          \n",
       " 17   1   8  14\n",
       " 22  11   5   2\n",
       "  9   0  19  12\n",
       " 16   3  17   4\n",
       "  0  24   8   8\n",
       " 10  13  13   4\n",
       " 14   0   9  17\n",
       "  5  16   1  18\n",
       "  4   1  14  21\n",
       "  3  16  10  11\n",
       "  0  10  15  15\n",
       "  4  11  20   5"
      ]
     },
     "execution_count": 6,
     "metadata": {},
     "output_type": "execute_result"
    }
   ],
   "source": [
    "map(points, hands)"
   ]
  },
  {
   "cell_type": "code",
   "execution_count": 7,
   "metadata": {},
   "outputs": [],
   "source": [
    "using DataFrames"
   ]
  },
  {
   "cell_type": "code",
   "execution_count": null,
   "metadata": {},
   "outputs": [],
   "source": [
    "H = DataFrame(north = hands[:,1], east = hands[:,2], south = hands[:,3], west = hands[:,4])"
   ]
  },
  {
   "cell_type": "code",
   "execution_count": null,
   "metadata": {},
   "outputs": [],
   "source": [
    "H.north"
   ]
  },
  {
   "cell_type": "code",
   "execution_count": null,
   "metadata": {},
   "outputs": [],
   "source": [
    "H[1,:]"
   ]
  },
  {
   "cell_type": "code",
   "execution_count": null,
   "metadata": {},
   "outputs": [],
   "source": [
    "N12 = filter(H) do hand\n",
    "    points(hand.north) == 12\n",
    "end"
   ]
  },
  {
   "cell_type": "code",
   "execution_count": null,
   "metadata": {},
   "outputs": [],
   "source": [
    "size(N12)"
   ]
  },
  {
   "cell_type": "code",
   "execution_count": null,
   "metadata": {},
   "outputs": [],
   "source": [
    "size(N12,1) / size(H,1)"
   ]
  },
  {
   "cell_type": "code",
   "execution_count": null,
   "metadata": {},
   "outputs": [],
   "source": [
    "filter(N12) do hand\n",
    "    points(hand.east | hand.west) ≥ 24\n",
    "end"
   ]
  },
  {
   "cell_type": "code",
   "execution_count": null,
   "metadata": {},
   "outputs": [],
   "source": [
    "size(ans, 1)"
   ]
  },
  {
   "cell_type": "code",
   "execution_count": null,
   "metadata": {},
   "outputs": [],
   "source": [
    "using Plots"
   ]
  },
  {
   "cell_type": "code",
   "execution_count": null,
   "metadata": {},
   "outputs": [],
   "source": [
    "gr() # use GR backend"
   ]
  },
  {
   "cell_type": "code",
   "execution_count": null,
   "metadata": {},
   "outputs": [],
   "source": [
    "N12.east .| N12.west # f.(v, w)"
   ]
  },
  {
   "cell_type": "code",
   "execution_count": null,
   "metadata": {},
   "outputs": [],
   "source": [
    "points.(N12.east .| N12.west) # fuzed!"
   ]
  },
  {
   "cell_type": "code",
   "execution_count": null,
   "metadata": {},
   "outputs": [],
   "source": [
    "@time points.(N12.east .| N12.west)"
   ]
  },
  {
   "cell_type": "code",
   "execution_count": null,
   "metadata": {},
   "outputs": [],
   "source": [
    "histogram(points.(N12.east .| N12.west))"
   ]
  },
  {
   "cell_type": "code",
   "execution_count": null,
   "metadata": {},
   "outputs": [],
   "source": [
    "using Statistics"
   ]
  },
  {
   "cell_type": "code",
   "execution_count": null,
   "metadata": {},
   "outputs": [],
   "source": [
    "counts(points.(N12.east .| N12.west))"
   ]
  },
  {
   "cell_type": "code",
   "execution_count": null,
   "metadata": {},
   "outputs": [],
   "source": [
    "bar(counts(points.(N12.east .| N12.west)))"
   ]
  },
  {
   "cell_type": "code",
   "execution_count": null,
   "metadata": {},
   "outputs": [],
   "source": [
    "bar(counts(points.(H.north)))"
   ]
  },
  {
   "cell_type": "code",
   "execution_count": null,
   "metadata": {},
   "outputs": [],
   "source": [
    "bar(counts(points.(H.north .| H.south)))"
   ]
  },
  {
   "cell_type": "code",
   "execution_count": null,
   "metadata": {},
   "outputs": [],
   "source": [
    "@time counts(points.(H.north .| H.south))"
   ]
  },
  {
   "cell_type": "code",
   "execution_count": null,
   "metadata": {},
   "outputs": [],
   "source": [
    "histogram2d(points.(H.north), points.(H.east))"
   ]
  },
  {
   "cell_type": "code",
   "execution_count": null,
   "metadata": {},
   "outputs": [],
   "source": [
    "histogram(points.(H.north .| H.south) .- points.(H.east .| H.west))"
   ]
  }
 ],
 "metadata": {
  "@webio": {
   "lastCommId": null,
   "lastKernelId": null
  },
  "kernelspec": {
   "display_name": "Julia 1.4.0-DEV",
   "language": "julia",
   "name": "julia-1.4"
  },
  "language_info": {
   "file_extension": ".jl",
   "mimetype": "application/julia",
   "name": "julia",
   "version": "1.4.0"
  }
 },
 "nbformat": 4,
 "nbformat_minor": 2
}
